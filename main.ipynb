{
 "cells": [
  {
   "metadata": {},
   "cell_type": "markdown",
   "source": [
    "# Environment Setup:\n",
    "Before using this library, please ensure that you have the necessary packages and their corresponding versions.\n",
    "\n",
    "Please refer to the [README.md](https://github.com/liuzy0708/Online-Learning-Framework?tab=readme-ov-file#environment-setup) for details.\n"
   ],
   "id": "6fc77a37188b0e21"
  },
  {
   "metadata": {
    "collapsed": true
   },
   "cell_type": "code",
   "source": [
    "from io import StringIO\n",
    "from contextlib import redirect_stderr\n",
    "\n",
    "with redirect_stderr(StringIO()):\n",
    "    from tqdm.auto import tqdm\n",
    "from Tools.OL import *\n",
    "from Tools.ONE_STEP import *\n",
    "from Tools.TWO_STEP_CHUNK import *\n",
    "from Tools.TWO_STEP_INSTANCE import *"
   ],
   "id": "initial_id",
   "outputs": [],
   "execution_count": null
  },
  {
   "metadata": {},
   "cell_type": "markdown",
   "source": [
    "# Visualization:\n",
    "Do you need visual results?\n",
    "\n",
    "If needed, the results will be saved in a PDF document in the Results folder."
   ],
   "id": "810751d3f7f8c569"
  },
  {
   "metadata": {},
   "cell_type": "code",
   "source": "show_plot = input(\"Do you want to visualize the results? (Y/N): \").strip().lower() or \"y\"",
   "id": "4db988dfba552616",
   "outputs": [],
   "execution_count": null
  },
  {
   "metadata": {},
   "cell_type": "markdown",
   "source": [
    "# Settings:\n",
    "Please enter your experiment parameters in the cell below.\n",
    "\n",
    "Press Enter to use the default values.\n",
    "\n",
    "## There are four types of framework choices:\n",
    "1. OL: Online learning, processing data one sample at a time.\n",
    "2. ONE-STEP: Uses the classifiers in the OAL_classifier folder to complete model training and online learning in a single phase.\n",
    "3. TWO-STEP-CHUNK: Uses the classifiers in the classifier folder to complete model training and online learning in two phases, while also supporting batch processing.\n",
    "4. TWO-STEP-INSTANCE: Uses the classifiers in the classifier folder to complete model training and online learning in two steps, supporting only processing data one sample at a time.\n",
    "\n",
    "Enter one of the four names above to select your framework\n"
   ],
   "id": "7ded62b71109a590"
  },
  {
   "metadata": {},
   "cell_type": "code",
   "source": [
    "framework = input(f\"Input the framework (default: 'OL'): \") or \"OL\"\n",
    "max_samples = int(input(f\"Input the range of tested stream (default: 1000): \") or \"1000\")\n",
    "n_round = int(input(f\"Input the number of round (default: 3): \")or \"3\")\n",
    "n_pt = int(input(f\"Input the number of train samples (default: 100): \") or \"100\")\n",
    "dataset_name = input(f\"Input the dataset name (default: Waveform): \") or \"Waveform\"\n",
    "print(f\"Your framework is: {framework}\")"
   ],
   "id": "53b8d965c7cdd105",
   "outputs": [],
   "execution_count": null
  },
  {
   "metadata": {},
   "cell_type": "markdown",
   "source": [
    "# Next:\n",
    "Based on your selection, specify the corresponding model and parameters.\n",
    "\n",
    "1. If you choose \"OL\", valid models are:\n",
    "``` python\n",
    "['ARF', 'LB', 'OB', 'OBADWIN', 'DWM', 'OOB', 'SRP', 'AdaC2', 'QRBLS', 'BLS', 'OSSBLS', 'ISSBLS', 'SOSELM', 'NB', 'DES', 'DES_5', 'ACDWM', 'OLI2DS']\n",
    "```\n",
    "\n",
    "2. If you choose \"ONE-STEP\", valid models are:\n",
    "``` python\n",
    "['ROALE_DI', 'OALE']\n",
    "```\n",
    "\n",
    "3. If you choose \"TWO-STEP-CHUNK\", valid models and strategies are:\n",
    "``` python\n",
    "models:\n",
    "['ARF', 'LB', 'OB', 'OBADWIN', 'DWM', 'OOB', 'SRP', 'AdaC2', 'QRBLS', 'BLS', 'OSSBLS', 'ISSBLS', 'SOSELM', 'NB', 'DES', 'DES_5', 'ACDWM', 'OLI2DS']\n",
    "```\n",
    "``` python\n",
    "strategies:\n",
    "['DMI_DD']\n",
    "```\n",
    "\n",
    "4. If you choose \"TWO-STEP-INSTANCE\", valid models and strategies are:\n",
    "``` python\n",
    "models:\n",
    "['ARF', 'LB', 'OB', 'OBADWIN', 'DWM', 'OOB', 'SRP', 'AdaC2', 'QRBLS', 'BLS', 'OSSBLS', 'ISSBLS', 'SOSELM', 'NB', 'DES', 'DES_5', 'ACDWM', 'OLI2DS']\n",
    "```\n",
    "``` python\n",
    "strategies:\n",
    "['DSA_AI', 'Supervised', 'MTSGQS', 'US_fix', 'US_var', 'CogDQS', 'RS', 'DMI_DD']\n",
    "```\n",
    "\n",
    "\n",
    "\n",
    "\n"
   ],
   "id": "7168e20ff0397350"
  },
  {
   "metadata": {},
   "cell_type": "code",
   "source": [
    "if framework == \"OL\":\n",
    "    clf_name_list = input(\"Enter classifier names separated by commas (e.g., BLS,DES,SRP, default: 'BLS'): \") or \"BLS\"\n",
    "    experiment = OL(max_samples=max_samples, n_round=n_round, n_pt=n_pt, dataset_name=dataset_name,\n",
    "                    clf_name_list=clf_name_list)\n",
    "\n",
    "elif framework == \"ONE-STEP\":\n",
    "    method_name_list = input(\"Enter classifier names separated by commas (e.g., OALE,ROALE_DI): \")  #Only these two are supported.\n",
    "    experiment = One_Step(max_samples=max_samples, n_round=n_round, n_pt=n_pt, dataset_name=dataset_name, method_name_list=method_name_list)\n",
    "\n",
    "elif framework == \"TWO-STEP-CHUNK\":\n",
    "    n_ratio_max = float(input(f\"Input the number of ratio max: \") or \"0.30\") #Annotation ratio\n",
    "    chunk_size = int(input(f\"Input the chunk size: \") or \"1\")\n",
    "    clf_name_list = input(\"Enter classifier names separated by commas (e.g., BLS,DES,SRP): \")\n",
    "    str_name_list = input(f\"Enter strategies names separated by commas (e.g., DMI_DD): \") #only support DMI_DD\n",
    "    experiment = Two_Step_Chunk(max_samples=max_samples, n_round=n_round, n_pt=n_pt,n_ratio_max=n_ratio_max, chunk_size=chunk_size, dataset_name=dataset_name, clf_name_list=clf_name_list, str_name_list=str_name_list)\n",
    "\n",
    "elif framework == \"TWO-STEP-INSTANCE\":\n",
    "    clf_name_list = input(\"Enter classifier names separated by commas (e.g., BLS,DES,SRP): \")\n",
    "    str_name_list = input(f\"Enter strategies names separated by commas (e.g., RS,US_fix,US_var): \")\n",
    "    experiment = Two_Step_Instance(max_samples=max_samples, n_round=n_round, n_pt=n_pt,dataset_name=dataset_name, clf_name_list=clf_name_list, str_name_list=str_name_list)\n",
    "\n",
    "else:\n",
    "    raise ValueError(\"Invalid framework\")"
   ],
   "id": "89380831be44c84d",
   "outputs": [],
   "execution_count": null
  },
  {
   "metadata": {},
   "cell_type": "markdown",
   "source": [
    "# Run:\n",
    "The predicted results will be saved in CSV format in the Result folder.\n",
    "\n",
    "If you choose visualization, the visualization results will be displayed here and all plotted results will be saved too.\n",
    "\n",
    "The result includes the GIF form of Accuracy and F1, and the confusion matrix."
   ],
   "id": "a36d75313390daf3"
  },
  {
   "metadata": {},
   "cell_type": "code",
   "source": [
    "experiment.run()\n",
    "if show_plot == 'y':\n",
    "    experiment.show()"
   ],
   "id": "19b2af2038453760",
   "outputs": [],
   "execution_count": null
  }
 ],
 "metadata": {
  "kernelspec": {
   "display_name": "Python 3",
   "language": "python",
   "name": "python3"
  },
  "language_info": {
   "codemirror_mode": {
    "name": "ipython",
    "version": 2
   },
   "file_extension": ".py",
   "mimetype": "text/x-python",
   "name": "python",
   "nbconvert_exporter": "python",
   "pygments_lexer": "ipython2",
   "version": "2.7.6"
  }
 },
 "nbformat": 4,
 "nbformat_minor": 5
}
